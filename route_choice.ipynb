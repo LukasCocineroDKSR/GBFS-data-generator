{
 "cells": [
  {
   "cell_type": "code",
   "execution_count": null,
   "metadata": {},
   "outputs": [],
   "source": [
    "from dksr.micro_mobility_MDS import * \n",
    "import matplotlib.pyplot as plt\n",
    "import seaborn as sns\n",
    "from shapely.geometry import GeometryCollection\n"
   ]
  },
  {
   "attachments": {},
   "cell_type": "markdown",
   "metadata": {},
   "source": [
    "three datasets: trip data (df), a network model NACH (gdf), and a graph containing the bike networks corresponding data like OSMid (G); the network model NACH is based on the graph G"
   ]
  },
  {
   "cell_type": "code",
   "execution_count": null,
   "metadata": {},
   "outputs": [],
   "source": [
    "#df = pd.read_json(\"data.json\")"
   ]
  },
  {
   "cell_type": "code",
   "execution_count": null,
   "metadata": {},
   "outputs": [],
   "source": [
    "#df = pd.json_normalize(df['sensordata'])"
   ]
  },
  {
   "cell_type": "code",
   "execution_count": null,
   "metadata": {},
   "outputs": [],
   "source": [
    "#change in function --> \"return df\" in micro_mobility_MDS.py\n",
    "#df = clean_columns(df, inplace=True)"
   ]
  },
  {
   "cell_type": "code",
   "execution_count": null,
   "metadata": {},
   "outputs": [],
   "source": [
    "G = ox.graph_from_bbox(50.007215, 49.996002, 8.243716, 8.275259, network_type='bike')"
   ]
  },
  {
   "cell_type": "code",
   "execution_count": null,
   "metadata": {},
   "outputs": [],
   "source": [
    "ox.io.save_graph_geopackage(G, filepath=\"C:\\\\Users\\\\LukasKoch\\\\Desktop\\\\pipeline\\\\RouteChoice\\\\data\\\\neu\\\\graph.gpkg\")"
   ]
  },
  {
   "cell_type": "code",
   "execution_count": null,
   "metadata": {},
   "outputs": [],
   "source": [
    "gdf_raw = gpd.read_file('joined_graph_NACH_1500_v03.gpkg')"
   ]
  },
  {
   "cell_type": "code",
   "execution_count": null,
   "metadata": {},
   "outputs": [],
   "source": [
    "gdf_graph = gpd.read_file(\"C:\\\\Users\\\\LukasKoch\\\\Desktop\\\\pipeline\\\\RouteChoice\\\\data\\\\neu\\\\graph_edges.gpkg\")"
   ]
  },
  {
   "cell_type": "code",
   "execution_count": null,
   "metadata": {},
   "outputs": [],
   "source": [
    "gdf_NACH = gpd.read_file(\"C:\\\\Users\\\\LukasKoch\\\\Desktop\\\\pipeline\\\\RouteChoice\\\\data\\\\neu\\\\NACH_model.gpkg\")"
   ]
  },
  {
   "cell_type": "code",
   "execution_count": null,
   "metadata": {},
   "outputs": [],
   "source": [
    "gdf_NACH.crs"
   ]
  },
  {
   "cell_type": "code",
   "execution_count": null,
   "metadata": {},
   "outputs": [],
   "source": [
    "gdf_graph.crs"
   ]
  },
  {
   "cell_type": "code",
   "execution_count": null,
   "metadata": {},
   "outputs": [],
   "source": [
    "new_crs = 'EPSG:3857'  \n",
    "gdf_graph = gdf_graph.to_crs(new_crs)"
   ]
  },
  {
   "cell_type": "code",
   "execution_count": null,
   "metadata": {},
   "outputs": [],
   "source": [
    "# Perform spatial join\n",
    "merged_gdf = gpd.sjoin(gdf_graph, gdf_NACH, how='left', op='intersects')\n",
    "\n",
    "# Get the matched rows\n",
    "matched_rows = merged_gdf[gdf_graph.columns]"
   ]
  },
  {
   "cell_type": "code",
   "execution_count": null,
   "metadata": {},
   "outputs": [],
   "source": [
    "#merged_gdf = gpd.GeoDataFrame(pd.merge(gdf_graph, gdf_NACH, on='geometry', how='inner'))"
   ]
  },
  {
   "cell_type": "code",
   "execution_count": null,
   "metadata": {},
   "outputs": [],
   "source": [
    "merged_gdf"
   ]
  },
  {
   "cell_type": "code",
   "execution_count": null,
   "metadata": {},
   "outputs": [],
   "source": []
  },
  {
   "cell_type": "code",
   "execution_count": null,
   "metadata": {},
   "outputs": [],
   "source": []
  },
  {
   "cell_type": "code",
   "execution_count": null,
   "metadata": {},
   "outputs": [],
   "source": [
    "merged_gdf.plot()"
   ]
  },
  {
   "cell_type": "code",
   "execution_count": null,
   "metadata": {},
   "outputs": [],
   "source": []
  },
  {
   "cell_type": "code",
   "execution_count": null,
   "metadata": {},
   "outputs": [],
   "source": []
  },
  {
   "attachments": {},
   "cell_type": "markdown",
   "metadata": {},
   "source": [
    "## analyzing missing edges "
   ]
  },
  {
   "cell_type": "code",
   "execution_count": null,
   "metadata": {},
   "outputs": [],
   "source": [
    "len(gdf_NACH)"
   ]
  },
  {
   "cell_type": "code",
   "execution_count": null,
   "metadata": {},
   "outputs": [],
   "source": [
    "gdf_raw.columns"
   ]
  },
  {
   "cell_type": "code",
   "execution_count": null,
   "metadata": {},
   "outputs": [],
   "source": [
    "gdf = gdf_raw[['u', 'v','key', 'osmid', 'name', 'length', 'highway', 'maxspeed','NACH', 'geometry']]"
   ]
  },
  {
   "cell_type": "code",
   "execution_count": null,
   "metadata": {},
   "outputs": [],
   "source": [
    "gdf_null = gdf.dropna()"
   ]
  },
  {
   "cell_type": "code",
   "execution_count": null,
   "metadata": {},
   "outputs": [],
   "source": [
    "gdf_nan_rows = gdf[gdf.isna().any(axis=1)]"
   ]
  },
  {
   "cell_type": "code",
   "execution_count": null,
   "metadata": {},
   "outputs": [],
   "source": [
    "gdf_nan_rows.plot()"
   ]
  },
  {
   "cell_type": "code",
   "execution_count": null,
   "metadata": {},
   "outputs": [],
   "source": [
    "missing_data_1.plot()"
   ]
  },
  {
   "cell_type": "code",
   "execution_count": null,
   "metadata": {},
   "outputs": [],
   "source": [
    "gdf_null.plot()"
   ]
  },
  {
   "cell_type": "code",
   "execution_count": null,
   "metadata": {},
   "outputs": [],
   "source": [
    "gdf_null"
   ]
  },
  {
   "cell_type": "code",
   "execution_count": null,
   "metadata": {},
   "outputs": [],
   "source": [
    "gdf_null = gdf.dropna()"
   ]
  },
  {
   "cell_type": "code",
   "execution_count": null,
   "metadata": {},
   "outputs": [],
   "source": [
    "# even the NACH model is based on the G, many G.edges have NULL values for NACH\n",
    "gdf.isnull().sum()"
   ]
  },
  {
   "cell_type": "code",
   "execution_count": null,
   "metadata": {},
   "outputs": [],
   "source": [
    "# NACH seems to be relative broad distributed with std = 1.65\n",
    "gdf.describe()"
   ]
  },
  {
   "cell_type": "code",
   "execution_count": null,
   "metadata": {},
   "outputs": [],
   "source": [
    "#G.nodes are prvided as floats, which is false\n",
    "gdf[['u','v','key']] = gdf[['u','v','key']].astype(np.int64)"
   ]
  },
  {
   "cell_type": "code",
   "execution_count": null,
   "metadata": {},
   "outputs": [],
   "source": [
    "gdf['highway'].unique()"
   ]
  },
  {
   "cell_type": "code",
   "execution_count": null,
   "metadata": {},
   "outputs": [],
   "source": [
    "sorted_data = gdf.groupby('highway')['NACH'].mean().sort_values(ascending=False)"
   ]
  },
  {
   "cell_type": "code",
   "execution_count": null,
   "metadata": {},
   "outputs": [],
   "source": [
    "ax = sns.barplot(x=sorted_data.index, y=sorted_data.values)#, x=sorted_data['highway'], y=sorted_data['NACH'])\n",
    "ax.set_xticklabels(ax.get_xticklabels(),rotation=90);"
   ]
  },
  {
   "cell_type": "code",
   "execution_count": null,
   "metadata": {},
   "outputs": [],
   "source": [
    "sorted_data.index"
   ]
  },
  {
   "cell_type": "code",
   "execution_count": null,
   "metadata": {},
   "outputs": [],
   "source": [
    "fig, axes = plt.subplots(1, 2, figsize=(12, 6))\n",
    "\n",
    "#  NACH35 is has a radius of 1500 meters and is aligned with the average scooter movment (local perspective)\n",
    "sns.scatterplot(data=gdf_raw['NACH'], ax=axes[0])\n",
    "axes[0].set_title('NACH')\n",
    "\n",
    "# NACH35 is has a radius of 3500 meters and is aligned with to overall map (global perspective)\n",
    "sns.scatterplot(data=gdf_raw['NACH35'], ax=axes[1])\n",
    "axes[1].set_title('NACH35')\n",
    "\n"
   ]
  },
  {
   "cell_type": "code",
   "execution_count": null,
   "metadata": {},
   "outputs": [],
   "source": [
    "gdf.head(10)"
   ]
  },
  {
   "cell_type": "code",
   "execution_count": null,
   "metadata": {},
   "outputs": [],
   "source": [
    "gdf['nodes'] = list(zip(gdf['u'], gdf['v'],gdf['key'] ))"
   ]
  },
  {
   "cell_type": "code",
   "execution_count": null,
   "metadata": {},
   "outputs": [],
   "source": [
    "#a loop for getting the OSMids or other edge data that are represented in the NACH model\n",
    "# this will be used later to merge scooter counts with the NACH model\n",
    "osmids = []\n",
    "for i,x in gdf.iterrows():\n",
    "    try:\n",
    "        osmids.append(G.get_edge_data(osmid = G.get_edge_data(gdf.iloc[0]['nodes'][0], gdf.iloc[0]['nodes'][1],gdf.iloc[0]['nodes'][2]).get('osmid')))\n",
    "    except:\n",
    "        try:\n",
    "            osmids.append(G.get_edge_data(gdf.iloc[i]['u'],gdf.iloc[i]['v'], 1).get('osmid'))\n",
    "        except:\n",
    "            continue"
   ]
  },
  {
   "cell_type": "code",
   "execution_count": null,
   "metadata": {},
   "outputs": [],
   "source": [
    "#a loop for getting the OSMids or other edge data that are represented in the NACH model\n",
    "# this will be used later to merge scooter counts with the NACH model\n",
    "osmids = []\n",
    "for i,x in gdf.iterrows():\n",
    "    try:\n",
    "        osmids.append(G.get_edge_data(gdf.iloc[i]['nodes'][0], gdf.iloc[i]['nodes'][1],gdf.iloc[i]['nodes'][2]).get('osmid'))\n",
    "    except:\n",
    "        continue"
   ]
  },
  {
   "cell_type": "code",
   "execution_count": null,
   "metadata": {},
   "outputs": [],
   "source": [
    "#check missing vallues\n",
    "\n",
    "# the original G has about 2.7k edges\n",
    "print(\"Original G:\", len(G.edges))\n",
    "#the NACH model has only about 1.7k edges\n",
    "print(\"NACH Model:\", len(gdf.index))\n",
    "#lastly 1375 can mapped back on the graph, meaning some edges in the NACH model get disturbed during the process\n",
    "print(\"Mapped Edges:\", len(osmids))"
   ]
  },
  {
   "cell_type": "code",
   "execution_count": null,
   "metadata": {},
   "outputs": [],
   "source": [
    "#find all rows that has no corresponding edge data\n",
    "def missing_data(gdf,G):\n",
    "    missing_edges = []\n",
    "    for i, x in gdf.iterrows():\n",
    "        try:\n",
    "            G.get_edge_data(gdf.iloc[i]['nodes'][0], gdf.iloc[i]['nodes'][1], gdf.iloc[i]['nodes'][2]).get('osmid')\n",
    "        except:\n",
    "            missing_edges.append(i)\n",
    "\n",
    "    filtered_gdf = gdf.loc[missing_edges]\n",
    "    return filtered_gdf"
   ]
  },
  {
   "cell_type": "code",
   "execution_count": null,
   "metadata": {},
   "outputs": [],
   "source": [
    "missing_data_1 = missing_data(gdf, G)"
   ]
  },
  {
   "cell_type": "code",
   "execution_count": null,
   "metadata": {},
   "outputs": [],
   "source": [
    "missing_data_1"
   ]
  },
  {
   "cell_type": "code",
   "execution_count": null,
   "metadata": {},
   "outputs": [],
   "source": [
    "#missing values seem to be highly relevant\n",
    "missing_data_1.plot()"
   ]
  },
  {
   "cell_type": "code",
   "execution_count": null,
   "metadata": {},
   "outputs": [],
   "source": [
    "# during export u, and v seems to be switched\n",
    "\n",
    "def find_nodes(osmid):\n",
    "    osmid = 203848419 \n",
    "\n",
    "    # Iterate over the edges and find the matching edge\n",
    "    matching_edge = None\n",
    "    for u, v, key, data in G.edges(keys=True, data=True):\n",
    "        if \"osmid\" in data and data[\"osmid\"] == osmid:\n",
    "            matching_edge = (u, v, key)\n",
    "            break\n",
    "\n",
    "    if matching_edge is not None:\n",
    "        print(\"Matching edge found!\")\n",
    "        print(\"u:\", matching_edge[0])\n",
    "        print(\"v:\", matching_edge[1])\n",
    "        print(\"key:\", matching_edge[2])\n",
    "    else:\n",
    "        print(\"No matching edge found for the given OSM ID.\")"
   ]
  },
  {
   "cell_type": "code",
   "execution_count": null,
   "metadata": {},
   "outputs": [],
   "source": [
    "find_nodes(203848419)"
   ]
  },
  {
   "cell_type": "code",
   "execution_count": null,
   "metadata": {},
   "outputs": [],
   "source": [
    "missing_data_1[['u', 'v']] = missing_data_1[['v', 'u']]\n",
    "missing_data_1['nodes'] = list(zip(missing_data_1['u'], missing_data_1['v'],missing_data_1['key'] ))"
   ]
  },
  {
   "cell_type": "code",
   "execution_count": null,
   "metadata": {},
   "outputs": [],
   "source": [
    "edges = []\n",
    "for i,x in missing_data_1.iterrows():\n",
    "    try:\n",
    "        edges.append(G.get_edge_data(missing_data_1.iloc[i]['nodes'][0], missing_data_1.iloc[i]['nodes'][1],missing_data_1.iloc[i]['nodes'][2]))\n",
    "        edges.append(missing_data_1.iloc[i]['nodes'])\n",
    "    except:\n",
    "        continue"
   ]
  },
  {
   "cell_type": "code",
   "execution_count": null,
   "metadata": {},
   "outputs": [],
   "source": [
    "#drop all none types\n",
    "edges = [edge for edge in edges if edge is not None]"
   ]
  },
  {
   "cell_type": "code",
   "execution_count": null,
   "metadata": {},
   "outputs": [],
   "source": [
    "edges = edges[1:]"
   ]
  },
  {
   "cell_type": "code",
   "execution_count": null,
   "metadata": {},
   "outputs": [],
   "source": [
    "result = {}\n",
    "for i in range(len(edges)):\n",
    "    if isinstance(edges[i], dict):\n",
    "        merged_dict = {**edges[i], 'nodes': edges[i+1]}\n",
    "        result[i] = merged_dict"
   ]
  },
  {
   "cell_type": "code",
   "execution_count": null,
   "metadata": {},
   "outputs": [],
   "source": [
    "result = [v for _, v in result.items()]"
   ]
  },
  {
   "cell_type": "code",
   "execution_count": null,
   "metadata": {},
   "outputs": [],
   "source": [
    "gdf_2 = gpd.GeoDataFrame.from_records(result)"
   ]
  },
  {
   "cell_type": "code",
   "execution_count": null,
   "metadata": {},
   "outputs": [],
   "source": [
    "edges_outview = list(G.edges)"
   ]
  },
  {
   "cell_type": "code",
   "execution_count": null,
   "metadata": {},
   "outputs": [],
   "source": [
    "edges_outviewedges_set = set(edges_outview)"
   ]
  },
  {
   "cell_type": "code",
   "execution_count": null,
   "metadata": {},
   "outputs": [],
   "source": [
    "gdf_edges_set = set(zip(gdf['u'], gdf['v']))"
   ]
  },
  {
   "cell_type": "code",
   "execution_count": null,
   "metadata": {},
   "outputs": [],
   "source": [
    "missing_edges = edges_set - gdf_edges_set"
   ]
  },
  {
   "cell_type": "code",
   "execution_count": null,
   "metadata": {},
   "outputs": [],
   "source": [
    "# Extract the routes and their lengths\n",
    "routes = list(df['route'])\n",
    "lengths = [nx.shortest_path_length(G, start_node, dropoff_node, weight='length') for start_node, dropoff_node in zip(df['start_node'], df['dropoff_node'])]"
   ]
  }
 ],
 "metadata": {
  "kernelspec": {
   "display_name": "dksr_kgl",
   "language": "python",
   "name": "python3"
  },
  "language_info": {
   "codemirror_mode": {
    "name": "ipython",
    "version": 3
   },
   "file_extension": ".py",
   "mimetype": "text/x-python",
   "name": "python",
   "nbconvert_exporter": "python",
   "pygments_lexer": "ipython3",
   "version": "3.10.9"
  },
  "orig_nbformat": 4
 },
 "nbformat": 4,
 "nbformat_minor": 2
}
