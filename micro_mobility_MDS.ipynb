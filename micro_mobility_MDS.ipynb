{
 "cells": [
  {
   "cell_type": "code",
   "execution_count": 1,
   "metadata": {},
   "outputs": [],
   "source": [
    "from dksr.micro_mobility_MDS import * \n",
    "from dksr.dummy_data_generator import *"
   ]
  },
  {
   "cell_type": "code",
   "execution_count": 2,
   "metadata": {},
   "outputs": [],
   "source": [
    "# from processing import *"
   ]
  },
  {
   "cell_type": "code",
   "execution_count": 3,
   "metadata": {},
   "outputs": [],
   "source": [
    "# help(extract_sample_network)"
   ]
  },
  {
   "cell_type": "code",
   "execution_count": 4,
   "metadata": {},
   "outputs": [],
   "source": [
    "# help(trace_transform)"
   ]
  },
  {
   "cell_type": "code",
   "execution_count": 5,
   "metadata": {},
   "outputs": [],
   "source": [
    "# help(trip_layer)"
   ]
  },
  {
   "cell_type": "code",
   "execution_count": 6,
   "metadata": {},
   "outputs": [],
   "source": [
    "# explorative data analysis based on mobility data specification\n",
    "\n",
    "# 1. plot it \n",
    "# 2. extract start-/ end points"
   ]
  },
  {
   "cell_type": "code",
   "execution_count": 7,
   "metadata": {},
   "outputs": [],
   "source": [
    "# a good adress to find your bbox of choice is the bbox finder, make sure your bbox is not to small to achieve a nicer output\n",
    "north, east, south, west = 52.460298,13.328991,52.515803,13.455849"
   ]
  },
  {
   "cell_type": "code",
   "execution_count": 8,
   "metadata": {},
   "outputs": [],
   "source": [
    "df = extract_sample_network(north, east, south, west, sample_size=50, seed=42)"
   ]
  },
  {
   "cell_type": "code",
   "execution_count": 9,
   "metadata": {},
   "outputs": [
    {
     "data": {
      "text/html": [
       "<div>\n",
       "<style scoped>\n",
       "    .dataframe tbody tr th:only-of-type {\n",
       "        vertical-align: middle;\n",
       "    }\n",
       "\n",
       "    .dataframe tbody tr th {\n",
       "        vertical-align: top;\n",
       "    }\n",
       "\n",
       "    .dataframe thead th {\n",
       "        text-align: right;\n",
       "    }\n",
       "</style>\n",
       "<table border=\"1\" class=\"dataframe\">\n",
       "  <thead>\n",
       "    <tr style=\"text-align: right;\">\n",
       "      <th></th>\n",
       "      <th>coordinates</th>\n",
       "      <th>length_km</th>\n",
       "    </tr>\n",
       "  </thead>\n",
       "  <tbody>\n",
       "    <tr>\n",
       "      <th>0</th>\n",
       "      <td>[[13.4445381, 52.4749368], [13.4451518, 52.474...</td>\n",
       "      <td>16.407362</td>\n",
       "    </tr>\n",
       "    <tr>\n",
       "      <th>1</th>\n",
       "      <td>[[13.3624851, 52.4813843], [13.3623879, 52.478...</td>\n",
       "      <td>10.956792</td>\n",
       "    </tr>\n",
       "    <tr>\n",
       "      <th>2</th>\n",
       "      <td>[[13.4211299, 52.4801971], [13.4211049, 52.480...</td>\n",
       "      <td>8.097667</td>\n",
       "    </tr>\n",
       "    <tr>\n",
       "      <th>3</th>\n",
       "      <td>[[13.4197884, 52.4963995]]</td>\n",
       "      <td>0.033705</td>\n",
       "    </tr>\n",
       "    <tr>\n",
       "      <th>4</th>\n",
       "      <td>[[13.3352186, 52.4774154], [13.3327555, 52.476...</td>\n",
       "      <td>13.159391</td>\n",
       "    </tr>\n",
       "  </tbody>\n",
       "</table>\n",
       "</div>"
      ],
      "text/plain": [
       "                                         coordinates  length_km\n",
       "0  [[13.4445381, 52.4749368], [13.4451518, 52.474...  16.407362\n",
       "1  [[13.3624851, 52.4813843], [13.3623879, 52.478...  10.956792\n",
       "2  [[13.4211299, 52.4801971], [13.4211049, 52.480...   8.097667\n",
       "3                         [[13.4197884, 52.4963995]]   0.033705\n",
       "4  [[13.3352186, 52.4774154], [13.3327555, 52.476...  13.159391"
      ]
     },
     "execution_count": 9,
     "metadata": {},
     "output_type": "execute_result"
    }
   ],
   "source": [
    "df.head(5)"
   ]
  },
  {
   "cell_type": "code",
   "execution_count": 17,
   "metadata": {},
   "outputs": [
    {
     "name": "stdout",
     "output_type": "stream",
     "text": [
      "Skipping row: 3 - IllegalArgumentException: point array must contain 0 or >1 elements\n",
      "\n"
     ]
    }
   ],
   "source": [
    "df = trace_transform(df=df, speed=15, distance_delta=0.0001)"
   ]
  },
  {
   "cell_type": "code",
   "execution_count": null,
   "metadata": {},
   "outputs": [],
   "source": [
    "df.head(5)"
   ]
  },
  {
   "cell_type": "code",
   "execution_count": null,
   "metadata": {},
   "outputs": [],
   "source": [
    "#config=trip_layer_config"
   ]
  },
  {
   "cell_type": "code",
   "execution_count": 18,
   "metadata": {},
   "outputs": [
    {
     "name": "stdout",
     "output_type": "stream",
     "text": [
      "User Guide: https://docs.kepler.gl/docs/keplergl-jupyter\n"
     ]
    }
   ],
   "source": [
    "map = trip_layer(df)"
   ]
  },
  {
   "cell_type": "code",
   "execution_count": 19,
   "metadata": {},
   "outputs": [
    {
     "name": "stderr",
     "output_type": "stream",
     "text": [
      "c:\\Users\\LukasKoch\\anaconda3\\envs\\dksr_kgl\\lib\\site-packages\\IPython\\core\\formatters.py:365: FormatterWarning: text/html formatter returned invalid type <class 'bytes'> (expected <class 'str'>) for object: KeplerGl(data={'Trips':                                              geo_json\n",
      "0   {'type': 'LineString', 'coordinates': [[13.444...\n",
      "1   {'type': 'LineString', 'coordinates': [[13.362...\n",
      "2   {'type': 'LineString', 'coordinates': [[13.421...\n",
      "3   {'type': 'LineString', 'coordinates': [[13.335...\n",
      "4   {'type': 'LineString', 'coordinates': [[13.407...\n",
      "5   {'type': 'LineString', 'coordinates': [[13.452...\n",
      "6   {'type': 'LineString', 'coordinates': [[13.388...\n",
      "7   {'type': 'LineString', 'coordinates': [[13.335...\n",
      "8   {'type': 'LineString', 'coordinates': [[13.337...\n",
      "9   {'type': 'LineString', 'coordinates': [[13.340...\n",
      "10  {'type': 'LineString', 'coordinates': [[13.348...\n",
      "11  {'type': 'LineString', 'coordinates': [[13.335...\n",
      "12  {'type': 'LineString', 'coordinates': [[13.336...\n",
      "13  {'type': 'LineString', 'coordinates': [[13.426...\n",
      "14  {'type': 'LineString', 'coordinates': [[13.423...\n",
      "15  {'type': 'LineString', 'coordinates': [[13.431...\n",
      "16  {'type': 'LineString', 'coordinates': [[13.425...\n",
      "17  {'type': 'LineString', 'coordinates': [[13.395...\n",
      "18  {'type': 'LineString', 'coordinates': [[13.421...\n",
      "19  {'type': 'LineString', 'coordinates': [[13.425...\n",
      "20  {'type': 'LineString', 'coordinates': [[13.436...\n",
      "21  {'type': 'LineString', 'coordinates': [[13.362...\n",
      "22  {'type': 'LineString', 'coordinates': [[13.436...\n",
      "23  {'type': 'LineString', 'coordinates': [[13.372...\n",
      "24  {'type': 'LineString', 'coordinates': [[13.421...\n",
      "25  {'type': 'LineString', 'coordinates': [[13.330...\n",
      "26  {'type': 'LineString', 'coordinates': [[13.420...\n",
      "27  {'type': 'LineString', 'coordinates': [[13.345...\n",
      "28  {'type': 'LineString', 'coordinates': [[13.331...\n",
      "29  {'type': 'LineString', 'coordinates': [[13.337...\n",
      "30  {'type': 'LineString', 'coordinates': [[13.440...\n",
      "31  {'type': 'LineString', 'coordinates': [[13.424...\n",
      "32  {'type': 'LineString', 'coordinates': [[13.368...\n",
      "33  {'type': 'LineString', 'coordinates': [[13.347...\n",
      "34  {'type': 'LineString', 'coordinates': [[13.351...\n",
      "35  {'type': 'LineString', 'coordinates': [[13.331...\n",
      "36  {'type': 'LineString', 'coordinates': [[13.354...\n",
      "37  {'type': 'LineString', 'coordinates': [[13.425...\n",
      "38  {'type': 'LineString', 'coordinates': [[13.442...\n",
      "39  {'type': 'LineString', 'coordinates': [[13.379...\n",
      "40  {'type': 'LineString', 'coordinates': [[13.376...\n",
      "41  {'type': 'LineString', 'coordinates': [[13.423...\n",
      "42  {'type': 'LineString', 'coordinates': [[13.398...\n",
      "43  {'type': 'LineString', 'coordinates': [[13.418...\n",
      "44  {'type': 'LineString', 'coordinates': [[13.349...\n",
      "45  {'type': 'LineString', 'coordinates': [[13.421...\n",
      "46  {'type': 'LineString', 'coordinates': [[13.444...\n",
      "47  {'type': 'LineString', 'coordinates': [[13.379...\n",
      "48  {'type': 'LineString', 'coordinates': [[13.450...}, height=800)\n",
      "  warnings.warn(\n"
     ]
    },
    {
     "data": {
      "application/vnd.jupyter.widget-view+json": {
       "model_id": "2b5640ada56b4c0b8228a9dfc36bc55f",
       "version_major": 2,
       "version_minor": 0
      },
      "text/plain": [
       "KeplerGl(data={'Trips':                                              geo_json\n",
       "0   {'type': 'LineString', 'coor…"
      ]
     },
     "execution_count": 19,
     "metadata": {},
     "output_type": "execute_result"
    }
   ],
   "source": [
    "#plot and style your map\n",
    "map"
   ]
  },
  {
   "cell_type": "code",
   "execution_count": null,
   "metadata": {},
   "outputs": [],
   "source": [
    "# Save map config to a file\n",
    "with open('config.py', 'w') as f:\n",
    "   f.write('config = {}'.format(map.config))\n",
    "\n",
    "# load the config\n",
    "%run config.py"
   ]
  },
  {
   "cell_type": "code",
   "execution_count": null,
   "metadata": {},
   "outputs": [],
   "source": [
    "# this will save map with config\n",
    "map.save_to_html(data={'data': df}, config=config, file_name='my_map.html', read_only=True)"
   ]
  },
  {
   "cell_type": "code",
   "execution_count": null,
   "metadata": {},
   "outputs": [],
   "source": []
  }
 ],
 "metadata": {
  "kernelspec": {
   "display_name": "dksr_kgl",
   "language": "python",
   "name": "python3"
  },
  "language_info": {
   "codemirror_mode": {
    "name": "ipython",
    "version": 3
   },
   "file_extension": ".py",
   "mimetype": "text/x-python",
   "name": "python",
   "nbconvert_exporter": "python",
   "pygments_lexer": "ipython3",
   "version": "3.10.9"
  },
  "orig_nbformat": 4
 },
 "nbformat": 4,
 "nbformat_minor": 2
}
